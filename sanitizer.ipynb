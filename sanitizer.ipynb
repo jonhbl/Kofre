{
 "cells": [
  {
   "cell_type": "code",
   "execution_count": 41,
   "metadata": {},
   "outputs": [],
   "source": [
    "import re\n",
    "from datetime import datetime\n",
    "import csv\n",
    "import os\n",
    "import pandas as pd\n",
    "import pyodbc"
   ]
  },
  {
   "cell_type": "code",
   "execution_count": 2,
   "metadata": {},
   "outputs": [],
   "source": [
    "def getCallId(callColumn: str, sequenceColumn: str) -> str:\n",
    "        callId = callColumn.split('=')[-1].replace(' ','')\n",
    "        if \"(\" in callId:\n",
    "                callId = callId.split(\"(\")[0]\n",
    "        sequence = sequenceColumn.split('=')[-1].replace(' ','')\n",
    "        if \"(\" in sequence:\n",
    "            sequence = sequence.split(\"(\")[0]\n",
    "        return callId+\"_\"+sequence"
   ]
  },
  {
   "cell_type": "code",
   "execution_count": 3,
   "metadata": {},
   "outputs": [],
   "source": [
    "def getSite(siteColumn: str) -> str:\n",
    "    site = siteColumn.split('=')[-1].replace(' ','')\n",
    "    if \"(\" in site:\n",
    "            site = site.split(\"(\")[0]\n",
    "    return site"
   ]
  },
  {
   "cell_type": "code",
   "execution_count": 4,
   "metadata": {},
   "outputs": [],
   "source": [
    "def getIDChannelTalkGroup(column):\n",
    "    id_ = re.search(r'Individual =(.*?)\\(',column[ID_POS]).group(1).replace(' ','')\n",
    "    channel = re.search(r'\\\"(.*?)\\\"',column[CHANNEL_POS]).group(1).replace(' ','')\n",
    "    talkGroup = re.search(r'Secondary ID =(.*?)\\(', column[TALK_GROUP_POS]).group(1).replace(' ','')\n",
    "    return id_,channel,talkGroup"
   ]
  },
  {
   "cell_type": "code",
   "execution_count": 5,
   "metadata": {},
   "outputs": [],
   "source": [
    "def StartOfCallEvent(column):\n",
    "    callId = getCallId(column[0], column[1])\n",
    "    startTime = datetime.strptime(re.search(r'\\[(.*?)\\]',column[0]).group(1), \"%m/%d/%y %H:%M:%S\") \n",
    "    id_, channel, talkGroup = getIDChannelTalkGroup(column)\n",
    "    if callId not in events:\n",
    "        events[callId] = {}\n",
    "        events[callId][\"Data\"] = startTime\n",
    "        events[callId][\"ID\"] = id_\n",
    "        events[callId][\"Grupo\"] = talkGroup\n",
    "        events[callId][\"Evento\"] = line\n",
    "        events[callId][\"CodEvento\"] = CALL_EVENT_CODE\n",
    "        events[callId][\"Canal\"] = channel"
   ]
  },
  {
   "cell_type": "code",
   "execution_count": 6,
   "metadata": {},
   "outputs": [],
   "source": [
    "def StartOfCallUpdateEvent(column):\n",
    "    callId = getCallId(column[0], column[1])\n",
    "    if callId in events:\n",
    "        if events[callId][\"CodEvento\"] == CALL_EVENT_CODE:\n",
    "            siteId = getSite(column[6])\n",
    "            events[callId][\"site\"] = siteId"
   ]
  },
  {
   "cell_type": "code",
   "execution_count": 7,
   "metadata": {},
   "outputs": [],
   "source": [
    "def PttEvent(column):\n",
    "    callId = getCallId(column[0], column[1]).split(\"_\")[0]\n",
    "    sequence = int(getCallId(column[0], column[1]).split(\"_\")[1])\n",
    "    callIdSequence = callId+\"_\"+str(sequence)\n",
    "    startTime = datetime.strptime(re.search(r'\\[(.*?)\\]',column[0]).group(1), \"%m/%d/%y %H:%M:%S\") \n",
    "    id_, channel, talkGroup = getIDChannelTalkGroup(column)\n",
    "    if (sequence > 1):\n",
    "        previousCall = callId+\"_\"+str(sequence-1)\n",
    "        events[previousCall][\"Duracao\"] = int((startTime - events[previousCall][\"Data\"]).total_seconds())\n",
    "    if callIdSequence not in events:\n",
    "        events[callIdSequence] = {}\n",
    "        events[callIdSequence][\"Data\"] = startTime\n",
    "        events[callIdSequence][\"ID\"] = id_\n",
    "        events[callIdSequence][\"Grupo\"] = talkGroup\n",
    "        events[callIdSequence][\"Evento\"] = line\n",
    "        events[callIdSequence][\"CodEvento\"] = PTT_EVENT_CODE\n",
    "        events[callIdSequence][\"Canal\"] = channel"
   ]
  },
  {
   "cell_type": "code",
   "execution_count": 8,
   "metadata": {},
   "outputs": [],
   "source": [
    "def PttUpdateEvent(column):\n",
    "    callId = getCallId(column[0], column[1])\n",
    "    if callId in events:\n",
    "        if events[callId][\"CodEvento\"] == PTT_EVENT_CODE:\n",
    "            siteId = getSite(column[6])\n",
    "            events[callId][\"site\"] = siteId"
   ]
  },
  {
   "cell_type": "code",
   "execution_count": 9,
   "metadata": {},
   "outputs": [],
   "source": [
    "def CallInformationEvent(column):\n",
    "    callId = getCallId(column[0], column[1])\n",
    "    siteId = column[6].split('=')[-1].replace(' ','')\n",
    "    startTime = datetime.strptime(re.search(r'\\[(.*?)\\]',column[0]).group(1), \"%m/%d/%y %H:%M:%S\") \n",
    "    if callId not in events:\n",
    "        events[callId] = {}\n",
    "        events[callId][\"site\"] = siteId\n",
    "        events[callId][\"Evento\"] = line.replace(';',',')\n",
    "        events[callId][\"Data\"] = startTime\n",
    "        events[callId][\"CodEvento\"] = CALL_INFORMATION_EVENT_CODE"
   ]
  },
  {
   "cell_type": "code",
   "execution_count": 10,
   "metadata": {},
   "outputs": [],
   "source": [
    "def EndOfCallEvent(column):\n",
    "    callId = getCallId(column[0], column[1]).split(\"_\")[0]\n",
    "    sequence = int(getCallId(column[0], column[1]).split(\"_\")[1])\n",
    "    endTime = datetime.strptime(re.search(r'\\[(.*?)\\]',column[0]).group(1), \"%m/%d/%y %H:%M:%S\")\n",
    "    callIdSequence = callId+\"_\"+str(sequence-1)\n",
    "    if callIdSequence in events:\n",
    "        events[callIdSequence][\"Duracao\"] = int((endTime - events[callIdSequence][\"Data\"]).total_seconds())\n",
    "        if events[callIdSequence][\"CodEvento\"] is CALL_INFORMATION_EVENT_CODE:\n",
    "            id_, channel, talkGroup = getIDChannelTalkGroup(column)\n",
    "            events[callIdSequence][\"Grupo\"] = talkGroup\n",
    "            events[callIdSequence][\"Canal\"] = channel\n",
    "            events[callIdSequence][\"ID\"] = id_"
   ]
  },
  {
   "cell_type": "code",
   "execution_count": 11,
   "metadata": {},
   "outputs": [],
   "source": [
    "START_OF_CALL_EVENT = \"Controlling Zone Update - Start of Call\"\n",
    "START_OF_CALL_UPDATE_EVENT = \"Call Activity Update - Start of Call\"\n",
    "PTT_EVENT = \"Controlling Zone Update - PTT-ID Active Control\"\n",
    "PTT_UPDATE_EVENT = \"Call Activity Update - PTT-ID Update Active\"\n",
    "END_OF_CALL_EVENT = \"Controlling Zone Update - End of Call\"\n",
    "CALL_INFORMATION_EVENT = \"Call Activity Update - Call Information Change\"\n",
    "CALL_EVENT_CODE = 1\n",
    "PTT_EVENT_CODE = 2\n",
    "CALL_INFORMATION_EVENT_CODE = 3\n",
    "ID_POS = 16\n",
    "TALK_GROUP_POS = 23\n",
    "CHANNEL_POS = 16"
   ]
  },
  {
   "cell_type": "code",
   "execution_count": 12,
   "metadata": {},
   "outputs": [
    {
     "data": {
      "text/plain": [
       "['log.2021_08_22_19_00_00_4600_489_atia_local.alv.txt']"
      ]
     },
     "execution_count": 12,
     "metadata": {},
     "output_type": "execute_result"
    }
   ],
   "source": [
    "files = [arq for arq in os.listdir('logs') if '.txt' in arq]\n",
    "calls = []\n",
    "events = {}\n",
    "files"
   ]
  },
  {
   "cell_type": "code",
   "execution_count": 14,
   "metadata": {
    "scrolled": true
   },
   "outputs": [
    {
     "name": "stdout",
     "output_type": "stream",
     "text": [
      "2022-05-30 22:05:12.340655 - Arquivo log.2021_08_22_19_00_00_4600_489_atia_local.alv.txt com 5108 linhas\n"
     ]
    }
   ],
   "source": [
    "for fileName in files:\n",
    "    file = open(\"logs\"+'/'+fileName, 'r', encoding='utf-16')\n",
    "    fileLines = file.readlines()\n",
    "    firstLogLine = 0\n",
    "    for line in fileLines:\n",
    "        if \";\" in line:\n",
    "            firstLogLine = fileLines.index(line)\n",
    "            break\n",
    "    logLines = fileLines[firstLogLine:]\n",
    "    callIds = []\n",
    "    print(f\"{datetime.now()} - Arquivo {fileName} com {len(logLines)} linhas\")\n",
    "    for line in logLines:\n",
    "        column = line.split(\";\")\n",
    "        if START_OF_CALL_EVENT in column[0]:\n",
    "            StartOfCallEvent(column)\n",
    "\n",
    "        elif START_OF_CALL_UPDATE_EVENT in column[0]:\n",
    "            StartOfCallUpdateEvent(column)\n",
    "\n",
    "        elif PTT_EVENT in column[0]:\n",
    "            PttEvent(column)\n",
    "\n",
    "        elif PTT_UPDATE_EVENT in column[0]:\n",
    "            PttUpdateEvent(column)\n",
    "\n",
    "        elif CALL_INFORMATION_EVENT in column[0]:\n",
    "            CallInformationEvent(column)\n",
    "\n",
    "        elif END_OF_CALL_EVENT in column[0]:\n",
    "            EndOfCallEvent(column)\n"
   ]
  },
  {
   "cell_type": "code",
   "execution_count": 42,
   "metadata": {},
   "outputs": [],
   "source": [
    "class SQLConnect():\n",
    "    def __init__(self,server, database, username=None, password=None, strConnection=None)->None:\n",
    "        self.server = server\n",
    "        self.database = database\n",
    "        self.username = username\n",
    "        self.password = password\n",
    "        self.strConnection = strConnection\n",
    "        self.connection = pyodbc.connect(strConnection)\n",
    "        self.cursor = self.connection.cursor()\n",
    "    def create(self, data:datetime, id_:str, grupo:str, canal:str, evento:str, codEvento:int, duracao:float , site:int):\n",
    "        sql = f\"INSERT INTO ----- VALUES ({data},{id_},{grupo},{canal},{evento},{codEvento},{duracao},{site})\""
   ]
  },
  {
   "cell_type": "code",
   "execution_count": 15,
   "metadata": {},
   "outputs": [],
   "source": [
    "for call in events.items():\n",
    "    if \"Duracao\" in call[1]:\n",
    "        calls.append(call[1])"
   ]
  },
  {
   "cell_type": "code",
   "execution_count": 38,
   "metadata": {},
   "outputs": [],
   "source": [
    "#sqlClient = SQLConnect(...)"
   ]
  },
  {
   "cell_type": "code",
   "execution_count": 39,
   "metadata": {},
   "outputs": [
    {
     "ename": "SyntaxError",
     "evalue": "unexpected EOF while parsing (<ipython-input-39-e65ed9a2aba3>, line 2)",
     "output_type": "error",
     "traceback": [
      "\u001b[1;36m  File \u001b[1;32m\"<ipython-input-39-e65ed9a2aba3>\"\u001b[1;36m, line \u001b[1;32m2\u001b[0m\n\u001b[1;33m    #(event['Data'],event['ID'],event['Grupo'],event['Evento'],event['CodEvento'],event['Canal'],event['site'],event['Duracao'])\u001b[0m\n\u001b[1;37m                                                                                                                                 ^\u001b[0m\n\u001b[1;31mSyntaxError\u001b[0m\u001b[1;31m:\u001b[0m unexpected EOF while parsing\n"
     ]
    }
   ],
   "source": [
    "for event in events.values():\n",
    "    #(event['Data'],event['ID'],event['Grupo'],event['Evento'],event['CodEvento'],event['Canal'],event['site'],event['Duracao']) "
   ]
  },
  {
   "cell_type": "code",
   "execution_count": 16,
   "metadata": {},
   "outputs": [
    {
     "data": {
      "text/html": [
       "<div>\n",
       "<style scoped>\n",
       "    .dataframe tbody tr th:only-of-type {\n",
       "        vertical-align: middle;\n",
       "    }\n",
       "\n",
       "    .dataframe tbody tr th {\n",
       "        vertical-align: top;\n",
       "    }\n",
       "\n",
       "    .dataframe thead th {\n",
       "        text-align: right;\n",
       "    }\n",
       "</style>\n",
       "<table border=\"1\" class=\"dataframe\">\n",
       "  <thead>\n",
       "    <tr style=\"text-align: right;\">\n",
       "      <th></th>\n",
       "      <th>Data</th>\n",
       "      <th>ID</th>\n",
       "      <th>Grupo</th>\n",
       "      <th>Evento</th>\n",
       "      <th>CodEvento</th>\n",
       "      <th>Canal</th>\n",
       "      <th>site</th>\n",
       "      <th>Duracao</th>\n",
       "    </tr>\n",
       "  </thead>\n",
       "  <tbody>\n",
       "    <tr>\n",
       "      <th>40201011_1</th>\n",
       "      <td>2021-08-22 16:00:00</td>\n",
       "      <td>4182</td>\n",
       "      <td>201621</td>\n",
       "      <td>[08/22/21 16:00:00] Controlling Zone Update - ...</td>\n",
       "      <td>1</td>\n",
       "      <td>GOL-011</td>\n",
       "      <td>1</td>\n",
       "      <td>2</td>\n",
       "    </tr>\n",
       "    <tr>\n",
       "      <th>40201011_2</th>\n",
       "      <td>2021-08-22 16:00:02</td>\n",
       "      <td>4182</td>\n",
       "      <td>201621</td>\n",
       "      <td>[08/22/21 16:00:02] Controlling Zone Update - ...</td>\n",
       "      <td>2</td>\n",
       "      <td>GOL-011</td>\n",
       "      <td>1</td>\n",
       "      <td>1</td>\n",
       "    </tr>\n",
       "    <tr>\n",
       "      <th>40201011_3</th>\n",
       "      <td>2021-08-22 16:00:03</td>\n",
       "      <td>4182</td>\n",
       "      <td>201621</td>\n",
       "      <td>[08/22/21 16:00:03] Controlling Zone Update - ...</td>\n",
       "      <td>2</td>\n",
       "      <td>GOL-011</td>\n",
       "      <td>1</td>\n",
       "      <td>2</td>\n",
       "    </tr>\n",
       "    <tr>\n",
       "      <th>40201012_1</th>\n",
       "      <td>2021-08-22 16:00:09</td>\n",
       "      <td>4182</td>\n",
       "      <td>201621</td>\n",
       "      <td>[08/22/21 16:00:09] Controlling Zone Update - ...</td>\n",
       "      <td>1</td>\n",
       "      <td>GOL-011</td>\n",
       "      <td>1</td>\n",
       "      <td>3</td>\n",
       "    </tr>\n",
       "    <tr>\n",
       "      <th>40201013_1</th>\n",
       "      <td>2021-08-22 16:00:12</td>\n",
       "      <td>4749</td>\n",
       "      <td>201404</td>\n",
       "      <td>[08/22/21 16:00:12] Controlling Zone Update - ...</td>\n",
       "      <td>1</td>\n",
       "      <td>GIG-131</td>\n",
       "      <td>1</td>\n",
       "      <td>5</td>\n",
       "    </tr>\n",
       "    <tr>\n",
       "      <th>...</th>\n",
       "      <td>...</td>\n",
       "      <td>...</td>\n",
       "      <td>...</td>\n",
       "      <td>...</td>\n",
       "      <td>...</td>\n",
       "      <td>...</td>\n",
       "      <td>...</td>\n",
       "      <td>...</td>\n",
       "    </tr>\n",
       "    <tr>\n",
       "      <th>40201425_2</th>\n",
       "      <td>2021-08-22 16:59:52</td>\n",
       "      <td>5964</td>\n",
       "      <td>201301</td>\n",
       "      <td>[08/22/21 16:59:52] Controlling Zone Update - ...</td>\n",
       "      <td>2</td>\n",
       "      <td>LIDERAVI-007</td>\n",
       "      <td>1</td>\n",
       "      <td>2</td>\n",
       "    </tr>\n",
       "    <tr>\n",
       "      <th>40201425_3</th>\n",
       "      <td>2021-08-22 16:59:54</td>\n",
       "      <td>5964</td>\n",
       "      <td>201301</td>\n",
       "      <td>[08/22/21 16:59:54] Controlling Zone Update - ...</td>\n",
       "      <td>2</td>\n",
       "      <td>LIDERAVI-007</td>\n",
       "      <td>1</td>\n",
       "      <td>3</td>\n",
       "    </tr>\n",
       "    <tr>\n",
       "      <th>40201426_1</th>\n",
       "      <td>2021-08-22 16:59:57</td>\n",
       "      <td>4304</td>\n",
       "      <td>201123</td>\n",
       "      <td>[08/22/21 16:59:57] Controlling Zone Update - ...</td>\n",
       "      <td>1</td>\n",
       "      <td>GIG-027</td>\n",
       "      <td>1</td>\n",
       "      <td>NaN</td>\n",
       "    </tr>\n",
       "    <tr>\n",
       "      <th>40201427_1</th>\n",
       "      <td>2021-08-22 16:59:58</td>\n",
       "      <td>5884</td>\n",
       "      <td>201301</td>\n",
       "      <td>[08/22/21 16:59:58] Controlling Zone Update - ...</td>\n",
       "      <td>1</td>\n",
       "      <td>LIDERAVI-008</td>\n",
       "      <td>1</td>\n",
       "      <td>NaN</td>\n",
       "    </tr>\n",
       "    <tr>\n",
       "      <th>40201424_3</th>\n",
       "      <td>2021-08-22 16:59:59</td>\n",
       "      <td>5195</td>\n",
       "      <td>201014</td>\n",
       "      <td>[08/22/21 16:59:59] Controlling Zone Update - ...</td>\n",
       "      <td>2</td>\n",
       "      <td>ESTACIONA-004</td>\n",
       "      <td>1</td>\n",
       "      <td>NaN</td>\n",
       "    </tr>\n",
       "  </tbody>\n",
       "</table>\n",
       "<p>756 rows × 8 columns</p>\n",
       "</div>"
      ],
      "text/plain": [
       "                          Data    ID   Grupo  \\\n",
       "40201011_1 2021-08-22 16:00:00  4182  201621   \n",
       "40201011_2 2021-08-22 16:00:02  4182  201621   \n",
       "40201011_3 2021-08-22 16:00:03  4182  201621   \n",
       "40201012_1 2021-08-22 16:00:09  4182  201621   \n",
       "40201013_1 2021-08-22 16:00:12  4749  201404   \n",
       "...                        ...   ...     ...   \n",
       "40201425_2 2021-08-22 16:59:52  5964  201301   \n",
       "40201425_3 2021-08-22 16:59:54  5964  201301   \n",
       "40201426_1 2021-08-22 16:59:57  4304  201123   \n",
       "40201427_1 2021-08-22 16:59:58  5884  201301   \n",
       "40201424_3 2021-08-22 16:59:59  5195  201014   \n",
       "\n",
       "                                                       Evento CodEvento  \\\n",
       "40201011_1  [08/22/21 16:00:00] Controlling Zone Update - ...         1   \n",
       "40201011_2  [08/22/21 16:00:02] Controlling Zone Update - ...         2   \n",
       "40201011_3  [08/22/21 16:00:03] Controlling Zone Update - ...         2   \n",
       "40201012_1  [08/22/21 16:00:09] Controlling Zone Update - ...         1   \n",
       "40201013_1  [08/22/21 16:00:12] Controlling Zone Update - ...         1   \n",
       "...                                                       ...       ...   \n",
       "40201425_2  [08/22/21 16:59:52] Controlling Zone Update - ...         2   \n",
       "40201425_3  [08/22/21 16:59:54] Controlling Zone Update - ...         2   \n",
       "40201426_1  [08/22/21 16:59:57] Controlling Zone Update - ...         1   \n",
       "40201427_1  [08/22/21 16:59:58] Controlling Zone Update - ...         1   \n",
       "40201424_3  [08/22/21 16:59:59] Controlling Zone Update - ...         2   \n",
       "\n",
       "                    Canal site Duracao  \n",
       "40201011_1        GOL-011    1       2  \n",
       "40201011_2        GOL-011    1       1  \n",
       "40201011_3        GOL-011    1       2  \n",
       "40201012_1        GOL-011    1       3  \n",
       "40201013_1        GIG-131    1       5  \n",
       "...                   ...  ...     ...  \n",
       "40201425_2   LIDERAVI-007    1       2  \n",
       "40201425_3   LIDERAVI-007    1       3  \n",
       "40201426_1        GIG-027    1     NaN  \n",
       "40201427_1   LIDERAVI-008    1     NaN  \n",
       "40201424_3  ESTACIONA-004    1     NaN  \n",
       "\n",
       "[756 rows x 8 columns]"
      ]
     },
     "execution_count": 16,
     "metadata": {},
     "output_type": "execute_result"
    }
   ],
   "source": [
    "pd.DataFrame(events).T"
   ]
  },
  {
   "cell_type": "code",
   "execution_count": null,
   "metadata": {},
   "outputs": [],
   "source": [
    "print(f\"{datetime.now()} - Execução finalizada\")"
   ]
  }
 ],
 "metadata": {
  "kernelspec": {
   "display_name": "Python 3",
   "language": "python",
   "name": "python3"
  },
  "language_info": {
   "codemirror_mode": {
    "name": "ipython",
    "version": 3
   },
   "file_extension": ".py",
   "mimetype": "text/x-python",
   "name": "python",
   "nbconvert_exporter": "python",
   "pygments_lexer": "ipython3",
   "version": "3.8.5"
  }
 },
 "nbformat": 4,
 "nbformat_minor": 4
}
